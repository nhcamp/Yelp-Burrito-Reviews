{
 "cells": [
  {
   "cell_type": "code",
   "execution_count": 1,
   "metadata": {},
   "outputs": [
    {
     "name": "stdout",
     "output_type": "stream",
     "text": [
      "3.7.3\n"
     ]
    }
   ],
   "source": [
    "from platform import python_version\n",
    "print(python_version())"
   ]
  },
  {
   "cell_type": "code",
   "execution_count": 59,
   "metadata": {},
   "outputs": [],
   "source": [
    "import pandas as pd\n",
    "import json\n",
    "import string\n",
    "import re\n",
    "import matplotlib.pyplot as plt\n",
    "from nltk.corpus import stopwords\n",
    "from nltk.tokenize import word_tokenize\n",
    "from tqdm import tqdm\n",
    "from sklearn.feature_extraction.text import CountVectorizer\n",
    "from sklearn.naive_bayes import MultinomialNB\n",
    "from sklearn.model_selection import train_test_split\n",
    "from sklearn.metrics import classification_report\n",
    "\n",
    "from vaderSentiment.vaderSentiment import SentimentIntensityAnalyzer"
   ]
  },
  {
   "cell_type": "code",
   "execution_count": 3,
   "metadata": {},
   "outputs": [],
   "source": [
    "### This cell loads in the two JSON files, pulls out all the mexican restaurants from the business JSON and gathers all the\n",
    "## reviews that mention that restaurant. This takes a long time to compile, so I pickled the two DFs to avoid having to\n",
    "# reacess the massive JSON file.\n",
    "\n",
    "business=pd.read_json('business.json',lines='True')\n",
    "mex = business.categories.str.contains('Mexican', na=False)\n",
    "tex_mex = business.categories.str.contains('Tex-Mex', na=False)\n",
    "taqs = business.loc[mex | tex_mex]\n",
    "taqs_dict = {}\n",
    "taqs_id = []\n",
    "for index,data in taqs.iterrows():\n",
    "    taqs_dict[data['business_id']] = data['name']\n",
    "    taqs_id.append(data['business_id'])\n",
    "reviews = []\n",
    "with open('review.json') as fp:\n",
    "    for line in fp:\n",
    "        comment = json.loads(line) \n",
    "        reviews.append(comment)\n",
    "    fp.close()\n",
    "mexican_reviews = [rev for rev in reviews if rev[\"business_id\"] in taqs]  \n",
    "reviews_df = pd.DataFrame(mexican_reviews)\n",
    "reviews_df['Restaurant Name']=reviews_df['business_id'].map(taq_dict)\n",
    "reviews_df['reviews_length'] = reviews_df['text'].apply(len)\n",
    "reviews_df.to_pickle('./mexican_reviews.pkl')   \n",
    "business.to_pickle('./business_info.pkl')"
   ]
  },
  {
   "cell_type": "code",
   "execution_count": 5,
   "metadata": {},
   "outputs": [],
   "source": [
    "## Functions needed for throughout analysis\n",
    "\n",
    "def remove_stopwords_punc(i1):\n",
    "    ## Using nltk library's stop words and string.punctuation, this removes them from a tokenized list. Use with df.apply()\n",
    "    \n",
    "    stop_words = list(stopwords.words('english'))+list(string.punctuation)\n",
    "    minus_stops = [w for w in i1 if w not in stop_words]\n",
    "    return minus_stops\n",
    "\n",
    "def tokenize_and_clean(df):\n",
    "    ## Using nltk word tokenize in df.apply() and cleaning using function above.\n",
    "    \n",
    "    df['tokenized_text'] = df['text'].apply(word_tokenize)\n",
    "    df['tokenized_text_cleaned'] = df['tokenized_text'].apply(remove_stopwords_punc)\n",
    "    return df\n",
    "\n",
    "def dummy(doc):\n",
    "    return doc\n",
    "\n",
    "def google_sentiment_analysis_magnitude(text):\n",
    "    client = language.LanguageServiceClient(credentials=cred)\n",
    "    text = text\n",
    "    document = types.Document(content=text,type=enums.Document.Type.PLAIN_TEXT)\n",
    "    sentiment = client.analyze_sentiment(document=document).document_sentiment\n",
    "    magnitude = sentiment.magnitude\n",
    "    return magnitude\n",
    "\n",
    "def google_sentiment_analysis_score(text):\n",
    "    client = language.LanguageServiceClient(credentials=cred)\n",
    "    text = text\n",
    "    document = types.Document(content=text,type=enums.Document.Type.PLAIN_TEXT)\n",
    "    sentiment = client.analyze_sentiment(document=document).document_sentiment\n",
    "    score = sentiment.score\n",
    "    return score\n",
    "\n",
    "def apply_sentiment_analysis(df):\n",
    "    tqdm.pandas()\n",
    "    df['Sentiment_Score'] = df['text'].progress_apply(google_sentiment_analysis_score)\n",
    "    df['Sentiment_Magnitude'] = df['text'].progress_apply(google_sentiment_analysis_magnitude)\n",
    "    return df"
   ]
  },
  {
   "cell_type": "code",
   "execution_count": 8,
   "metadata": {
    "scrolled": true
   },
   "outputs": [
    {
     "name": "stderr",
     "output_type": "stream",
     "text": [
      "192609it [00:19, 10074.09it/s]\n",
      "100%|██████████████████████████████████████████████████████████████████████████████████| 5/5 [00:00<00:00, 5101.32it/s]\n"
     ]
    }
   ],
   "source": [
    "## This cell will load the pickled versions of the dataframe created above and perform manipulations...\n",
    "\n",
    "rest_path = 'C:/Users/nhcam/Desktop/Springboard/Yelp Burrito Reviews Project/Yelp_Project_Data/mexican_reviews.pkl'\n",
    "busi_path = 'C:/Users/nhcam/Desktop/Springboard/Yelp Burrito Reviews Project/Yelp_Project_Data/business_info.pkl'\n",
    "\n",
    "reviews_df = pd.read_pickle(rest_path)\n",
    "business_df = pd.read_pickle(busi_path)\n",
    "\n",
    "\n",
    "#Adding city and state data to the reviews\n",
    "city = {}\n",
    "state = {}\n",
    "for index,data in tqdm(business_df.iterrows()):\n",
    "    city[data['business_id']] = data['city']\n",
    "    state[data['business_id']] = data['state']\n",
    "reviews_df['city'] = reviews_df['business_id'].map(city)\n",
    "reviews_df['state'] = reviews_df['business_id'].map(state)\n",
    "\n",
    "\n",
    "#Adding region to reviews, dropping any row without a US State (there are british and canadian cities included)\n",
    "US_states = ['AL','AK','AZ','AR','CA','CO','CT','DE','FL','GA','HI','ID','IL',\n",
    "             'IN','IA','KS','KY','LA','ME','MD','MA','MI','MN','MS','MO','MT',\n",
    "             'NE','NV','NH','NJ','NM','NY','NC','ND','OH','OK','OR','PA','RI',\n",
    "             'SC','SD','TN','TX','UT','VT','VA','WA','WV','WI','WY']\n",
    "cali = ['CA']\n",
    "west = ['WA','OR','NV','ID','AK','HI','MT','UT','CO','WY','NM','AZ']\n",
    "midwest = ['ND','SD','NE','KS','OK','MN','IA','MO','WI','MI','IL','IN']\n",
    "south = ['LA','MS','AL','TN','NC','SC','GA','FL','TX','AR']\n",
    "noreast = ['KY','OH','WV','PA','MD','DE','NJ','NY','CT','RI','MA','VA','NH','ME','VT']\n",
    "states = [cali,west,midwest,south,noreast]\n",
    "regions = ['California','West','Midwest','South','Northeast']\n",
    "regions_dict={}\n",
    "i = 0\n",
    "for each in tqdm(states):\n",
    "    for indiv in each:\n",
    "        regions_dict[indiv] = regions[i]\n",
    "    i += 1\n",
    "reviews_df['region'] = reviews_df['state'].map(regions_dict)\n",
    "reviews_df = reviews_df.dropna(axis=0)\n",
    "\n",
    "#Mapping labels to stars\n",
    "stars_dict = {5:'Good',4:'Good',3:'Neutral/Bad',2:'Neutral/Bad',1:'Neutral/Bad'}\n",
    "reviews_df['Good/Neutral/Bad'] = reviews_df['stars'].map(stars_dict)\n",
    "\n",
    "\n",
    "#Set and sort index\n",
    "reviews_df.set_index(['business_id','Restaurant Name'],inplace=True)\n",
    "reviews_df.sort_index(inplace=True)"
   ]
  },
  {
   "cell_type": "code",
   "execution_count": 11,
   "metadata": {},
   "outputs": [],
   "source": [
    "burrito_mention = reviews_df.loc[reviews_df['text'].str.contains('burrito',case=False)]\n",
    "#burrito_mention = tokenize_and_clean(burrito_mention)\n",
    "reviews_df = tokenize_and_clean(reviews_df)"
   ]
  },
  {
   "cell_type": "code",
   "execution_count": null,
   "metadata": {},
   "outputs": [],
   "source": []
  },
  {
   "cell_type": "code",
   "execution_count": null,
   "metadata": {},
   "outputs": [],
   "source": []
  },
  {
   "cell_type": "code",
   "execution_count": 62,
   "metadata": {},
   "outputs": [],
   "source": [
    "def find_burrito_sentence (df):\n",
    "    burrito_sentence_list = []\n",
    "    for indexes, data in df.iterrows():\n",
    "        review = data['text']\n",
    "        burrito_sentence = [sentence + '.' for sentence in re.split('. | ! ',review) if 'burrito' in sentence]\n",
    "        burrito_sentence_list.append(burrito_sentence)\n",
    "    df['burrito_sentence'] = burrito_sentence_list\n",
    "    return df"
   ]
  },
  {
   "cell_type": "code",
   "execution_count": 65,
   "metadata": {},
   "outputs": [
    {
     "name": "stderr",
     "output_type": "stream",
     "text": [
      "C:\\Users\\nhcam\\Anaconda3\\lib\\site-packages\\ipykernel_launcher.py:7: SettingWithCopyWarning: \n",
      "A value is trying to be set on a copy of a slice from a DataFrame.\n",
      "Try using .loc[row_indexer,col_indexer] = value instead\n",
      "\n",
      "See the caveats in the documentation: http://pandas.pydata.org/pandas-docs/stable/indexing.html#indexing-view-versus-copy\n",
      "  import sys\n"
     ]
    },
    {
     "name": "stdout",
     "output_type": "stream",
     "text": [
      "business_id             Restaurant Name                    \n",
      "-1VaIJza42Hjev6ukacCNg  Rio Mirage Cafe Y Cantina                                                             []\n",
      "                        Rio Mirage Cafe Y Cantina                                                             []\n",
      "                        Rio Mirage Cafe Y Cantina                                                             []\n",
      "                        Rio Mirage Cafe Y Cantina                                                             []\n",
      "                        Rio Mirage Cafe Y Cantina                                                     [burrito.]\n",
      "                        Rio Mirage Cafe Y Cantina                                                             []\n",
      "                        Rio Mirage Cafe Y Cantina                                                     [burrito.]\n",
      "                        Rio Mirage Cafe Y Cantina                                                             []\n",
      "                        Rio Mirage Cafe Y Cantina                                                     [burrito.]\n",
      "                        Rio Mirage Cafe Y Cantina                                                             []\n",
      "                        Rio Mirage Cafe Y Cantina                                                             []\n",
      "                        Rio Mirage Cafe Y Cantina                                                             []\n",
      "                        Rio Mirage Cafe Y Cantina                                                             []\n",
      "                        Rio Mirage Cafe Y Cantina              [burrito., burrito., burrito., burrito., burri...\n",
      "                        Rio Mirage Cafe Y Cantina                                                             []\n",
      "                        Rio Mirage Cafe Y Cantina                                                             []\n",
      "                        Rio Mirage Cafe Y Cantina                                         [burrito., burrito(E.]\n",
      "                        Rio Mirage Cafe Y Cantina                                                             []\n",
      "                        Rio Mirage Cafe Y Cantina                                                     [burrito.]\n",
      "                        Rio Mirage Cafe Y Cantina                                               [burrito.\\nLoo.]\n",
      "                        Rio Mirage Cafe Y Cantina                                                             []\n",
      "-1xCh7Cocn6IwFzhELyohA  Jose' and Tony's Mexican Restaurant                                                   []\n",
      "                        Jose' and Tony's Mexican Restaurant                                                   []\n",
      "                        Jose' and Tony's Mexican Restaurant                                           [burrito.]\n",
      "                        Jose' and Tony's Mexican Restaurant                                                   []\n",
      "                        Jose' and Tony's Mexican Restaurant                                                   []\n",
      "                        Jose' and Tony's Mexican Restaurant                                           [burrito.]\n",
      "                        Jose' and Tony's Mexican Restaurant                                                   []\n",
      "                        Jose' and Tony's Mexican Restaurant                                           [burrito.]\n",
      "                        Jose' and Tony's Mexican Restaurant                                                   []\n",
      "                                                                                     ...                        \n",
      "-6tvduBzjLI1ISfs3F_qTg  Joyride Taco House                                                  [burrito., burrito.]\n",
      "                        Joyride Taco House                                                            [burrito.]\n",
      "                        Joyride Taco House                                                    [burrito.......i.]\n",
      "                        Joyride Taco House                                                                    []\n",
      "                        Joyride Taco House                                                            [burrito.]\n",
      "                        Joyride Taco House                                                            [burrito.]\n",
      "                        Joyride Taco House                                                                    []\n",
      "                        Joyride Taco House                                                                    []\n",
      "                        Joyride Taco House                                                  [burrito., burrito.]\n",
      "                        Joyride Taco House                                                                    []\n",
      "                        Joyride Taco House                                                            [burrito.]\n",
      "                        Joyride Taco House                                                           [burritos.]\n",
      "                        Joyride Taco House                                                                    []\n",
      "                        Joyride Taco House                                                                    []\n",
      "                        Joyride Taco House                                                                    []\n",
      "                        Joyride Taco House                                                                    []\n",
      "                        Joyride Taco House                                                                    []\n",
      "                        Joyride Taco House                                                                    []\n",
      "                        Joyride Taco House                                                  [burrito., burrito.]\n",
      "                        Joyride Taco House                                                                    []\n",
      "                        Joyride Taco House                                                           [burritos.]\n",
      "                        Joyride Taco House                                                            [burrito.]\n",
      "                        Joyride Taco House                                                                    []\n",
      "                        Joyride Taco House                                                                    []\n",
      "                        Joyride Taco House                                                                    []\n",
      "                        Joyride Taco House                                                                    []\n",
      "                        Joyride Taco House                                                            [burrito.]\n",
      "                        Joyride Taco House                                                                    []\n",
      "                        Joyride Taco House                                                                    []\n",
      "                        Joyride Taco House                                                                    []\n",
      "Name: burrito_sentence, Length: 100, dtype: object\n"
     ]
    }
   ],
   "source": [
    "small_set = find_burrito_sentence(small_set)\n",
    "print(small_set['burrito_sentence'])"
   ]
  },
  {
   "cell_type": "code",
   "execution_count": 10,
   "metadata": {},
   "outputs": [
    {
     "data": {
      "text/plain": [
       "{'neg': 0.096, 'neu': 0.525, 'pos': 0.379, 'compound': 0.8164}"
      ]
     },
     "execution_count": 10,
     "metadata": {},
     "output_type": "execute_result"
    }
   ],
   "source": [
    "first_review = reviews_df.iloc[1]['text']\n",
    "analyzer = SentimentIntensityAnalyzer()\n",
    "analyzer.polarity_scores(first_review)"
   ]
  },
  {
   "cell_type": "code",
   "execution_count": 12,
   "metadata": {},
   "outputs": [],
   "source": [
    "vectorizer = CountVectorizer(tokenizer=dummy,preprocessor=dummy)\n",
    "text = list(reviews_df['tokenized_text_cleaned'])\n",
    "bag_of_words = vectorizer.fit(text)\n",
    "X = bag_of_words.transform(text)"
   ]
  },
  {
   "cell_type": "code",
   "execution_count": 13,
   "metadata": {},
   "outputs": [],
   "source": [
    "X = bag_of_words.transform(text)\n",
    "y = reviews_df['Good/Neutral/Bad']\n",
    "X_train,X_test,y_train,y_test = train_test_split(X,y,test_size=0.25)"
   ]
  },
  {
   "cell_type": "code",
   "execution_count": 14,
   "metadata": {},
   "outputs": [
    {
     "name": "stdout",
     "output_type": "stream",
     "text": [
      "              precision    recall  f1-score   support\n",
      "\n",
      "        Good       0.89      0.93      0.91     61554\n",
      " Neutral/Bad       0.86      0.80      0.83     33620\n",
      "\n",
      "   micro avg       0.88      0.88      0.88     95174\n",
      "   macro avg       0.88      0.86      0.87     95174\n",
      "weighted avg       0.88      0.88      0.88     95174\n",
      "\n"
     ]
    }
   ],
   "source": [
    "mnb = MultinomialNB()\n",
    "mnb.fit(X_train,y_train)\n",
    "y_pred = mnb.predict(X_test)\n",
    "print(classification_report(y_test,y_pred))"
   ]
  }
 ],
 "metadata": {
  "kernelspec": {
   "display_name": "Python 3",
   "language": "python",
   "name": "python3"
  },
  "language_info": {
   "codemirror_mode": {
    "name": "ipython",
    "version": 3
   },
   "file_extension": ".py",
   "mimetype": "text/x-python",
   "name": "python",
   "nbconvert_exporter": "python",
   "pygments_lexer": "ipython3",
   "version": "3.7.3"
  }
 },
 "nbformat": 4,
 "nbformat_minor": 2
}
